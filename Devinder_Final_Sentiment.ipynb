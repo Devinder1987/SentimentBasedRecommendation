{
 "cells": [
  {
   "cell_type": "markdown",
   "metadata": {},
   "source": [
    "# Sentiment Analysis\n",
    "## 1. EDA"
   ]
  },
  {
   "cell_type": "code",
   "execution_count": 1,
   "metadata": {},
   "outputs": [],
   "source": [
    "# import libraties\n",
    "import pandas as pd\n",
    "import numpy as np\n",
    "import matplotlib.pyplot as plt\n",
    "import seaborn as sns\n",
    "import warnings\n",
    "warnings.filterwarnings('ignore')"
   ]
  },
  {
   "cell_type": "code",
   "execution_count": 2,
   "metadata": {},
   "outputs": [
    {
     "name": "stdout",
     "output_type": "stream",
     "text": [
      "Shape:  (30000, 15)\n"
     ]
    },
    {
     "data": {
      "text/html": [
       "<div>\n",
       "<style scoped>\n",
       "    .dataframe tbody tr th:only-of-type {\n",
       "        vertical-align: middle;\n",
       "    }\n",
       "\n",
       "    .dataframe tbody tr th {\n",
       "        vertical-align: top;\n",
       "    }\n",
       "\n",
       "    .dataframe thead th {\n",
       "        text-align: right;\n",
       "    }\n",
       "</style>\n",
       "<table border=\"1\" class=\"dataframe\">\n",
       "  <thead>\n",
       "    <tr style=\"text-align: right;\">\n",
       "      <th></th>\n",
       "      <th>id</th>\n",
       "      <th>brand</th>\n",
       "      <th>categories</th>\n",
       "      <th>manufacturer</th>\n",
       "      <th>name</th>\n",
       "      <th>reviews_date</th>\n",
       "      <th>reviews_didPurchase</th>\n",
       "      <th>reviews_doRecommend</th>\n",
       "      <th>reviews_rating</th>\n",
       "      <th>reviews_text</th>\n",
       "      <th>reviews_title</th>\n",
       "      <th>reviews_userCity</th>\n",
       "      <th>reviews_userProvince</th>\n",
       "      <th>reviews_username</th>\n",
       "      <th>user_sentiment</th>\n",
       "    </tr>\n",
       "  </thead>\n",
       "  <tbody>\n",
       "    <tr>\n",
       "      <th>0</th>\n",
       "      <td>AV13O1A8GV-KLJ3akUyj</td>\n",
       "      <td>Universal Music</td>\n",
       "      <td>Movies, Music &amp; Books,Music,R&amp;b,Movies &amp; TV,Mo...</td>\n",
       "      <td>Universal Music Group / Cash Money</td>\n",
       "      <td>Pink Friday: Roman Reloaded Re-Up (w/dvd)</td>\n",
       "      <td>2012-11-30T06:21:45.000Z</td>\n",
       "      <td>NaN</td>\n",
       "      <td>NaN</td>\n",
       "      <td>5</td>\n",
       "      <td>i love this album. it's very good. more to the...</td>\n",
       "      <td>Just Awesome</td>\n",
       "      <td>Los Angeles</td>\n",
       "      <td>NaN</td>\n",
       "      <td>joshua</td>\n",
       "      <td>Positive</td>\n",
       "    </tr>\n",
       "    <tr>\n",
       "      <th>1</th>\n",
       "      <td>AV14LG0R-jtxr-f38QfS</td>\n",
       "      <td>Lundberg</td>\n",
       "      <td>Food,Packaged Foods,Snacks,Crackers,Snacks, Co...</td>\n",
       "      <td>Lundberg</td>\n",
       "      <td>Lundberg Organic Cinnamon Toast Rice Cakes</td>\n",
       "      <td>2017-07-09T00:00:00.000Z</td>\n",
       "      <td>True</td>\n",
       "      <td>NaN</td>\n",
       "      <td>5</td>\n",
       "      <td>Good flavor. This review was collected as part...</td>\n",
       "      <td>Good</td>\n",
       "      <td>NaN</td>\n",
       "      <td>NaN</td>\n",
       "      <td>dorothy w</td>\n",
       "      <td>Positive</td>\n",
       "    </tr>\n",
       "  </tbody>\n",
       "</table>\n",
       "</div>"
      ],
      "text/plain": [
       "                     id            brand  \\\n",
       "0  AV13O1A8GV-KLJ3akUyj  Universal Music   \n",
       "1  AV14LG0R-jtxr-f38QfS         Lundberg   \n",
       "\n",
       "                                          categories  \\\n",
       "0  Movies, Music & Books,Music,R&b,Movies & TV,Mo...   \n",
       "1  Food,Packaged Foods,Snacks,Crackers,Snacks, Co...   \n",
       "\n",
       "                         manufacturer  \\\n",
       "0  Universal Music Group / Cash Money   \n",
       "1                            Lundberg   \n",
       "\n",
       "                                         name              reviews_date  \\\n",
       "0   Pink Friday: Roman Reloaded Re-Up (w/dvd)  2012-11-30T06:21:45.000Z   \n",
       "1  Lundberg Organic Cinnamon Toast Rice Cakes  2017-07-09T00:00:00.000Z   \n",
       "\n",
       "  reviews_didPurchase reviews_doRecommend  reviews_rating  \\\n",
       "0                 NaN                 NaN               5   \n",
       "1                True                 NaN               5   \n",
       "\n",
       "                                        reviews_text reviews_title  \\\n",
       "0  i love this album. it's very good. more to the...  Just Awesome   \n",
       "1  Good flavor. This review was collected as part...          Good   \n",
       "\n",
       "  reviews_userCity reviews_userProvince reviews_username user_sentiment  \n",
       "0      Los Angeles                  NaN           joshua       Positive  \n",
       "1              NaN                  NaN        dorothy w       Positive  "
      ]
     },
     "execution_count": 2,
     "metadata": {},
     "output_type": "execute_result"
    }
   ],
   "source": [
    "# Reading review file\n",
    "reviews = pd.read_csv('./dataset/sample30.csv')\n",
    "print('Shape: ', reviews.shape)\n",
    "reviews.head(2)"
   ]
  },
  {
   "cell_type": "code",
   "execution_count": 3,
   "metadata": {},
   "outputs": [
    {
     "data": {
      "text/plain": [
       "Index(['id', 'brand', 'categories', 'manufacturer', 'name', 'reviews_date',\n",
       "       'reviews_didPurchase', 'reviews_doRecommend', 'reviews_rating',\n",
       "       'reviews_text', 'reviews_title', 'reviews_userCity',\n",
       "       'reviews_userProvince', 'reviews_username', 'user_sentiment'],\n",
       "      dtype='object')"
      ]
     },
     "execution_count": 3,
     "metadata": {},
     "output_type": "execute_result"
    }
   ],
   "source": [
    "reviews.columns"
   ]
  },
  {
   "cell_type": "markdown",
   "metadata": {},
   "source": [
    "## Extracting required columns\n",
    "As we don't require all columns, So we'll extract only required columns.reviews_text will better choice than Reviews_title."
   ]
  },
  {
   "cell_type": "code",
   "execution_count": 4,
   "metadata": {},
   "outputs": [
    {
     "name": "stdout",
     "output_type": "stream",
     "text": [
      "Shape:  (30000, 5)\n"
     ]
    },
    {
     "data": {
      "text/html": [
       "<div>\n",
       "<style scoped>\n",
       "    .dataframe tbody tr th:only-of-type {\n",
       "        vertical-align: middle;\n",
       "    }\n",
       "\n",
       "    .dataframe tbody tr th {\n",
       "        vertical-align: top;\n",
       "    }\n",
       "\n",
       "    .dataframe thead th {\n",
       "        text-align: right;\n",
       "    }\n",
       "</style>\n",
       "<table border=\"1\" class=\"dataframe\">\n",
       "  <thead>\n",
       "    <tr style=\"text-align: right;\">\n",
       "      <th></th>\n",
       "      <th>id</th>\n",
       "      <th>reviews_rating</th>\n",
       "      <th>reviews_text</th>\n",
       "      <th>reviews_username</th>\n",
       "      <th>user_sentiment</th>\n",
       "    </tr>\n",
       "  </thead>\n",
       "  <tbody>\n",
       "    <tr>\n",
       "      <th>0</th>\n",
       "      <td>AV13O1A8GV-KLJ3akUyj</td>\n",
       "      <td>5</td>\n",
       "      <td>i love this album. it's very good. more to the...</td>\n",
       "      <td>joshua</td>\n",
       "      <td>Positive</td>\n",
       "    </tr>\n",
       "    <tr>\n",
       "      <th>1</th>\n",
       "      <td>AV14LG0R-jtxr-f38QfS</td>\n",
       "      <td>5</td>\n",
       "      <td>Good flavor. This review was collected as part...</td>\n",
       "      <td>dorothy w</td>\n",
       "      <td>Positive</td>\n",
       "    </tr>\n",
       "    <tr>\n",
       "      <th>2</th>\n",
       "      <td>AV14LG0R-jtxr-f38QfS</td>\n",
       "      <td>5</td>\n",
       "      <td>Good flavor.</td>\n",
       "      <td>dorothy w</td>\n",
       "      <td>Positive</td>\n",
       "    </tr>\n",
       "    <tr>\n",
       "      <th>3</th>\n",
       "      <td>AV16khLE-jtxr-f38VFn</td>\n",
       "      <td>1</td>\n",
       "      <td>I read through the reviews on here before look...</td>\n",
       "      <td>rebecca</td>\n",
       "      <td>Negative</td>\n",
       "    </tr>\n",
       "    <tr>\n",
       "      <th>4</th>\n",
       "      <td>AV16khLE-jtxr-f38VFn</td>\n",
       "      <td>1</td>\n",
       "      <td>My husband bought this gel for us. The gel cau...</td>\n",
       "      <td>walker557</td>\n",
       "      <td>Negative</td>\n",
       "    </tr>\n",
       "    <tr>\n",
       "      <th>5</th>\n",
       "      <td>AV16khLE-jtxr-f38VFn</td>\n",
       "      <td>1</td>\n",
       "      <td>My boyfriend and I bought this to spice things...</td>\n",
       "      <td>samantha</td>\n",
       "      <td>Negative</td>\n",
       "    </tr>\n",
       "    <tr>\n",
       "      <th>6</th>\n",
       "      <td>AV16khLE-jtxr-f38VFn</td>\n",
       "      <td>1</td>\n",
       "      <td>Bought this earlier today and was excited to c...</td>\n",
       "      <td>raeanne</td>\n",
       "      <td>Negative</td>\n",
       "    </tr>\n",
       "    <tr>\n",
       "      <th>7</th>\n",
       "      <td>AV16khLE-jtxr-f38VFn</td>\n",
       "      <td>1</td>\n",
       "      <td>I bought this product for my husband and I to ...</td>\n",
       "      <td>kimmie</td>\n",
       "      <td>Negative</td>\n",
       "    </tr>\n",
       "    <tr>\n",
       "      <th>8</th>\n",
       "      <td>AV16khLE-jtxr-f38VFn</td>\n",
       "      <td>1</td>\n",
       "      <td>My husband and I bought this for some extra fu...</td>\n",
       "      <td>cassie</td>\n",
       "      <td>Negative</td>\n",
       "    </tr>\n",
       "    <tr>\n",
       "      <th>9</th>\n",
       "      <td>AV16khLE-jtxr-f38VFn</td>\n",
       "      <td>1</td>\n",
       "      <td>Got as a surprise for my husband there is noth...</td>\n",
       "      <td>moore222</td>\n",
       "      <td>Positive</td>\n",
       "    </tr>\n",
       "    <tr>\n",
       "      <th>10</th>\n",
       "      <td>AV16khLE-jtxr-f38VFn</td>\n",
       "      <td>1</td>\n",
       "      <td>tried it with my husband and felt no different...</td>\n",
       "      <td>jds1992</td>\n",
       "      <td>Negative</td>\n",
       "    </tr>\n",
       "    <tr>\n",
       "      <th>11</th>\n",
       "      <td>AV16khLE-jtxr-f38VFn</td>\n",
       "      <td>1</td>\n",
       "      <td>Purchased this thinking it would have some sor...</td>\n",
       "      <td>bre234</td>\n",
       "      <td>Positive</td>\n",
       "    </tr>\n",
       "    <tr>\n",
       "      <th>12</th>\n",
       "      <td>AV16khLE-jtxr-f38VFn</td>\n",
       "      <td>1</td>\n",
       "      <td>Bought this to enhance our time a bit, did abs...</td>\n",
       "      <td>jds1992</td>\n",
       "      <td>Negative</td>\n",
       "    </tr>\n",
       "    <tr>\n",
       "      <th>13</th>\n",
       "      <td>AV16khLE-jtxr-f38VFn</td>\n",
       "      <td>1</td>\n",
       "      <td>I bought this after really liking the his n he...</td>\n",
       "      <td>gordy313</td>\n",
       "      <td>Negative</td>\n",
       "    </tr>\n",
       "    <tr>\n",
       "      <th>14</th>\n",
       "      <td>AV16khLE-jtxr-f38VFn</td>\n",
       "      <td>1</td>\n",
       "      <td>First time purchase of this type of product. M...</td>\n",
       "      <td>nicole</td>\n",
       "      <td>Positive</td>\n",
       "    </tr>\n",
       "    <tr>\n",
       "      <th>15</th>\n",
       "      <td>AV16khLE-jtxr-f38VFn</td>\n",
       "      <td>1</td>\n",
       "      <td>I bought this and tried this with my wife but ...</td>\n",
       "      <td>cvperez</td>\n",
       "      <td>Negative</td>\n",
       "    </tr>\n",
       "    <tr>\n",
       "      <th>16</th>\n",
       "      <td>AV16khLE-jtxr-f38VFn</td>\n",
       "      <td>1</td>\n",
       "      <td>I bought this product to spice things up with ...</td>\n",
       "      <td>beccagrl532</td>\n",
       "      <td>Negative</td>\n",
       "    </tr>\n",
       "    <tr>\n",
       "      <th>17</th>\n",
       "      <td>AV16khLE-jtxr-f38VFn</td>\n",
       "      <td>1</td>\n",
       "      <td>I bought this to try to spice things up, but I...</td>\n",
       "      <td>sanchez</td>\n",
       "      <td>Negative</td>\n",
       "    </tr>\n",
       "    <tr>\n",
       "      <th>18</th>\n",
       "      <td>AV16khLE-jtxr-f38VFn</td>\n",
       "      <td>3</td>\n",
       "      <td>I bought this because it had better reviews th...</td>\n",
       "      <td>ll24</td>\n",
       "      <td>Positive</td>\n",
       "    </tr>\n",
       "    <tr>\n",
       "      <th>19</th>\n",
       "      <td>AV16khLE-jtxr-f38VFn</td>\n",
       "      <td>3</td>\n",
       "      <td>It was my first time using k-y. It didn't do a...</td>\n",
       "      <td>browns fan</td>\n",
       "      <td>Negative</td>\n",
       "    </tr>\n",
       "  </tbody>\n",
       "</table>\n",
       "</div>"
      ],
      "text/plain": [
       "                      id  reviews_rating  \\\n",
       "0   AV13O1A8GV-KLJ3akUyj               5   \n",
       "1   AV14LG0R-jtxr-f38QfS               5   \n",
       "2   AV14LG0R-jtxr-f38QfS               5   \n",
       "3   AV16khLE-jtxr-f38VFn               1   \n",
       "4   AV16khLE-jtxr-f38VFn               1   \n",
       "5   AV16khLE-jtxr-f38VFn               1   \n",
       "6   AV16khLE-jtxr-f38VFn               1   \n",
       "7   AV16khLE-jtxr-f38VFn               1   \n",
       "8   AV16khLE-jtxr-f38VFn               1   \n",
       "9   AV16khLE-jtxr-f38VFn               1   \n",
       "10  AV16khLE-jtxr-f38VFn               1   \n",
       "11  AV16khLE-jtxr-f38VFn               1   \n",
       "12  AV16khLE-jtxr-f38VFn               1   \n",
       "13  AV16khLE-jtxr-f38VFn               1   \n",
       "14  AV16khLE-jtxr-f38VFn               1   \n",
       "15  AV16khLE-jtxr-f38VFn               1   \n",
       "16  AV16khLE-jtxr-f38VFn               1   \n",
       "17  AV16khLE-jtxr-f38VFn               1   \n",
       "18  AV16khLE-jtxr-f38VFn               3   \n",
       "19  AV16khLE-jtxr-f38VFn               3   \n",
       "\n",
       "                                         reviews_text reviews_username  \\\n",
       "0   i love this album. it's very good. more to the...           joshua   \n",
       "1   Good flavor. This review was collected as part...        dorothy w   \n",
       "2                                        Good flavor.        dorothy w   \n",
       "3   I read through the reviews on here before look...          rebecca   \n",
       "4   My husband bought this gel for us. The gel cau...        walker557   \n",
       "5   My boyfriend and I bought this to spice things...         samantha   \n",
       "6   Bought this earlier today and was excited to c...          raeanne   \n",
       "7   I bought this product for my husband and I to ...           kimmie   \n",
       "8   My husband and I bought this for some extra fu...           cassie   \n",
       "9   Got as a surprise for my husband there is noth...         moore222   \n",
       "10  tried it with my husband and felt no different...          jds1992   \n",
       "11  Purchased this thinking it would have some sor...           bre234   \n",
       "12  Bought this to enhance our time a bit, did abs...          jds1992   \n",
       "13  I bought this after really liking the his n he...         gordy313   \n",
       "14  First time purchase of this type of product. M...           nicole   \n",
       "15  I bought this and tried this with my wife but ...          cvperez   \n",
       "16  I bought this product to spice things up with ...      beccagrl532   \n",
       "17  I bought this to try to spice things up, but I...          sanchez   \n",
       "18  I bought this because it had better reviews th...             ll24   \n",
       "19  It was my first time using k-y. It didn't do a...       browns fan   \n",
       "\n",
       "   user_sentiment  \n",
       "0        Positive  \n",
       "1        Positive  \n",
       "2        Positive  \n",
       "3        Negative  \n",
       "4        Negative  \n",
       "5        Negative  \n",
       "6        Negative  \n",
       "7        Negative  \n",
       "8        Negative  \n",
       "9        Positive  \n",
       "10       Negative  \n",
       "11       Positive  \n",
       "12       Negative  \n",
       "13       Negative  \n",
       "14       Positive  \n",
       "15       Negative  \n",
       "16       Negative  \n",
       "17       Negative  \n",
       "18       Positive  \n",
       "19       Negative  "
      ]
     },
     "execution_count": 4,
     "metadata": {},
     "output_type": "execute_result"
    }
   ],
   "source": [
    "df_reviews = reviews[['id','reviews_rating', 'reviews_text','reviews_username','user_sentiment']]\n",
    "print('Shape: ', df_reviews.shape)\n",
    "df_reviews.head(20)"
   ]
  },
  {
   "cell_type": "markdown",
   "metadata": {},
   "source": [
    "# 2. Data cleaning\n",
    "### Null value Check"
   ]
  },
  {
   "cell_type": "markdown",
   "metadata": {},
   "source": [
    "Treat the null values"
   ]
  },
  {
   "cell_type": "code",
   "execution_count": 5,
   "metadata": {},
   "outputs": [
    {
     "data": {
      "text/plain": [
       "id                   0\n",
       "reviews_rating       0\n",
       "reviews_text         0\n",
       "reviews_username    63\n",
       "user_sentiment       1\n",
       "dtype: int64"
      ]
     },
     "execution_count": 5,
     "metadata": {},
     "output_type": "execute_result"
    }
   ],
   "source": [
    "df_reviews.isnull().sum()"
   ]
  },
  {
   "cell_type": "code",
   "execution_count": 6,
   "metadata": {},
   "outputs": [
    {
     "name": "stdout",
     "output_type": "stream",
     "text": [
      "Shape: (29936, 5)\n"
     ]
    },
    {
     "data": {
      "text/plain": [
       "id                  0\n",
       "reviews_rating      0\n",
       "reviews_text        0\n",
       "reviews_username    0\n",
       "user_sentiment      0\n",
       "dtype: int64"
      ]
     },
     "execution_count": 6,
     "metadata": {},
     "output_type": "execute_result"
    }
   ],
   "source": [
    "# We have sufficent data and reviews_username is important field, so we can drop null data\n",
    "df_reviews = df_reviews[~df_reviews.user_sentiment.isnull()]\n",
    "df_reviews = df_reviews[~df_reviews.reviews_username.isnull()]\n",
    "print('Shape:', df_reviews.shape)\n",
    "df_reviews.isnull().sum()"
   ]
  },
  {
   "cell_type": "markdown",
   "metadata": {},
   "source": [
    "We have clean data now. Lets evaluate user_sentiment and reviews_rating. Ideally these should be same."
   ]
  },
  {
   "cell_type": "code",
   "execution_count": 7,
   "metadata": {},
   "outputs": [
    {
     "data": {
      "text/html": [
       "<div>\n",
       "<style scoped>\n",
       "    .dataframe tbody tr th:only-of-type {\n",
       "        vertical-align: middle;\n",
       "    }\n",
       "\n",
       "    .dataframe tbody tr th {\n",
       "        vertical-align: top;\n",
       "    }\n",
       "\n",
       "    .dataframe thead th {\n",
       "        text-align: right;\n",
       "    }\n",
       "</style>\n",
       "<table border=\"1\" class=\"dataframe\">\n",
       "  <thead>\n",
       "    <tr style=\"text-align: right;\">\n",
       "      <th></th>\n",
       "      <th>id</th>\n",
       "      <th>reviews_rating</th>\n",
       "      <th>reviews_text</th>\n",
       "      <th>reviews_username</th>\n",
       "      <th>user_sentiment</th>\n",
       "      <th>user_sentiment_drived</th>\n",
       "    </tr>\n",
       "  </thead>\n",
       "  <tbody>\n",
       "    <tr>\n",
       "      <th>0</th>\n",
       "      <td>AV13O1A8GV-KLJ3akUyj</td>\n",
       "      <td>5</td>\n",
       "      <td>i love this album. it's very good. more to the...</td>\n",
       "      <td>joshua</td>\n",
       "      <td>Positive</td>\n",
       "      <td>Positive</td>\n",
       "    </tr>\n",
       "    <tr>\n",
       "      <th>1</th>\n",
       "      <td>AV14LG0R-jtxr-f38QfS</td>\n",
       "      <td>5</td>\n",
       "      <td>Good flavor. This review was collected as part...</td>\n",
       "      <td>dorothy w</td>\n",
       "      <td>Positive</td>\n",
       "      <td>Positive</td>\n",
       "    </tr>\n",
       "    <tr>\n",
       "      <th>2</th>\n",
       "      <td>AV14LG0R-jtxr-f38QfS</td>\n",
       "      <td>5</td>\n",
       "      <td>Good flavor.</td>\n",
       "      <td>dorothy w</td>\n",
       "      <td>Positive</td>\n",
       "      <td>Positive</td>\n",
       "    </tr>\n",
       "    <tr>\n",
       "      <th>3</th>\n",
       "      <td>AV16khLE-jtxr-f38VFn</td>\n",
       "      <td>1</td>\n",
       "      <td>I read through the reviews on here before look...</td>\n",
       "      <td>rebecca</td>\n",
       "      <td>Negative</td>\n",
       "      <td>Negative</td>\n",
       "    </tr>\n",
       "    <tr>\n",
       "      <th>4</th>\n",
       "      <td>AV16khLE-jtxr-f38VFn</td>\n",
       "      <td>1</td>\n",
       "      <td>My husband bought this gel for us. The gel cau...</td>\n",
       "      <td>walker557</td>\n",
       "      <td>Negative</td>\n",
       "      <td>Negative</td>\n",
       "    </tr>\n",
       "    <tr>\n",
       "      <th>5</th>\n",
       "      <td>AV16khLE-jtxr-f38VFn</td>\n",
       "      <td>1</td>\n",
       "      <td>My boyfriend and I bought this to spice things...</td>\n",
       "      <td>samantha</td>\n",
       "      <td>Negative</td>\n",
       "      <td>Negative</td>\n",
       "    </tr>\n",
       "    <tr>\n",
       "      <th>6</th>\n",
       "      <td>AV16khLE-jtxr-f38VFn</td>\n",
       "      <td>1</td>\n",
       "      <td>Bought this earlier today and was excited to c...</td>\n",
       "      <td>raeanne</td>\n",
       "      <td>Negative</td>\n",
       "      <td>Negative</td>\n",
       "    </tr>\n",
       "    <tr>\n",
       "      <th>7</th>\n",
       "      <td>AV16khLE-jtxr-f38VFn</td>\n",
       "      <td>1</td>\n",
       "      <td>I bought this product for my husband and I to ...</td>\n",
       "      <td>kimmie</td>\n",
       "      <td>Negative</td>\n",
       "      <td>Negative</td>\n",
       "    </tr>\n",
       "    <tr>\n",
       "      <th>8</th>\n",
       "      <td>AV16khLE-jtxr-f38VFn</td>\n",
       "      <td>1</td>\n",
       "      <td>My husband and I bought this for some extra fu...</td>\n",
       "      <td>cassie</td>\n",
       "      <td>Negative</td>\n",
       "      <td>Negative</td>\n",
       "    </tr>\n",
       "    <tr>\n",
       "      <th>9</th>\n",
       "      <td>AV16khLE-jtxr-f38VFn</td>\n",
       "      <td>1</td>\n",
       "      <td>Got as a surprise for my husband there is noth...</td>\n",
       "      <td>moore222</td>\n",
       "      <td>Positive</td>\n",
       "      <td>Negative</td>\n",
       "    </tr>\n",
       "    <tr>\n",
       "      <th>10</th>\n",
       "      <td>AV16khLE-jtxr-f38VFn</td>\n",
       "      <td>1</td>\n",
       "      <td>tried it with my husband and felt no different...</td>\n",
       "      <td>jds1992</td>\n",
       "      <td>Negative</td>\n",
       "      <td>Negative</td>\n",
       "    </tr>\n",
       "    <tr>\n",
       "      <th>11</th>\n",
       "      <td>AV16khLE-jtxr-f38VFn</td>\n",
       "      <td>1</td>\n",
       "      <td>Purchased this thinking it would have some sor...</td>\n",
       "      <td>bre234</td>\n",
       "      <td>Positive</td>\n",
       "      <td>Negative</td>\n",
       "    </tr>\n",
       "    <tr>\n",
       "      <th>12</th>\n",
       "      <td>AV16khLE-jtxr-f38VFn</td>\n",
       "      <td>1</td>\n",
       "      <td>Bought this to enhance our time a bit, did abs...</td>\n",
       "      <td>jds1992</td>\n",
       "      <td>Negative</td>\n",
       "      <td>Negative</td>\n",
       "    </tr>\n",
       "    <tr>\n",
       "      <th>13</th>\n",
       "      <td>AV16khLE-jtxr-f38VFn</td>\n",
       "      <td>1</td>\n",
       "      <td>I bought this after really liking the his n he...</td>\n",
       "      <td>gordy313</td>\n",
       "      <td>Negative</td>\n",
       "      <td>Negative</td>\n",
       "    </tr>\n",
       "    <tr>\n",
       "      <th>14</th>\n",
       "      <td>AV16khLE-jtxr-f38VFn</td>\n",
       "      <td>1</td>\n",
       "      <td>First time purchase of this type of product. M...</td>\n",
       "      <td>nicole</td>\n",
       "      <td>Positive</td>\n",
       "      <td>Negative</td>\n",
       "    </tr>\n",
       "    <tr>\n",
       "      <th>15</th>\n",
       "      <td>AV16khLE-jtxr-f38VFn</td>\n",
       "      <td>1</td>\n",
       "      <td>I bought this and tried this with my wife but ...</td>\n",
       "      <td>cvperez</td>\n",
       "      <td>Negative</td>\n",
       "      <td>Negative</td>\n",
       "    </tr>\n",
       "    <tr>\n",
       "      <th>16</th>\n",
       "      <td>AV16khLE-jtxr-f38VFn</td>\n",
       "      <td>1</td>\n",
       "      <td>I bought this product to spice things up with ...</td>\n",
       "      <td>beccagrl532</td>\n",
       "      <td>Negative</td>\n",
       "      <td>Negative</td>\n",
       "    </tr>\n",
       "    <tr>\n",
       "      <th>17</th>\n",
       "      <td>AV16khLE-jtxr-f38VFn</td>\n",
       "      <td>1</td>\n",
       "      <td>I bought this to try to spice things up, but I...</td>\n",
       "      <td>sanchez</td>\n",
       "      <td>Negative</td>\n",
       "      <td>Negative</td>\n",
       "    </tr>\n",
       "    <tr>\n",
       "      <th>18</th>\n",
       "      <td>AV16khLE-jtxr-f38VFn</td>\n",
       "      <td>3</td>\n",
       "      <td>I bought this because it had better reviews th...</td>\n",
       "      <td>ll24</td>\n",
       "      <td>Positive</td>\n",
       "      <td>Positive</td>\n",
       "    </tr>\n",
       "    <tr>\n",
       "      <th>19</th>\n",
       "      <td>AV16khLE-jtxr-f38VFn</td>\n",
       "      <td>3</td>\n",
       "      <td>It was my first time using k-y. It didn't do a...</td>\n",
       "      <td>browns fan</td>\n",
       "      <td>Negative</td>\n",
       "      <td>Positive</td>\n",
       "    </tr>\n",
       "  </tbody>\n",
       "</table>\n",
       "</div>"
      ],
      "text/plain": [
       "                      id  reviews_rating  \\\n",
       "0   AV13O1A8GV-KLJ3akUyj               5   \n",
       "1   AV14LG0R-jtxr-f38QfS               5   \n",
       "2   AV14LG0R-jtxr-f38QfS               5   \n",
       "3   AV16khLE-jtxr-f38VFn               1   \n",
       "4   AV16khLE-jtxr-f38VFn               1   \n",
       "5   AV16khLE-jtxr-f38VFn               1   \n",
       "6   AV16khLE-jtxr-f38VFn               1   \n",
       "7   AV16khLE-jtxr-f38VFn               1   \n",
       "8   AV16khLE-jtxr-f38VFn               1   \n",
       "9   AV16khLE-jtxr-f38VFn               1   \n",
       "10  AV16khLE-jtxr-f38VFn               1   \n",
       "11  AV16khLE-jtxr-f38VFn               1   \n",
       "12  AV16khLE-jtxr-f38VFn               1   \n",
       "13  AV16khLE-jtxr-f38VFn               1   \n",
       "14  AV16khLE-jtxr-f38VFn               1   \n",
       "15  AV16khLE-jtxr-f38VFn               1   \n",
       "16  AV16khLE-jtxr-f38VFn               1   \n",
       "17  AV16khLE-jtxr-f38VFn               1   \n",
       "18  AV16khLE-jtxr-f38VFn               3   \n",
       "19  AV16khLE-jtxr-f38VFn               3   \n",
       "\n",
       "                                         reviews_text reviews_username  \\\n",
       "0   i love this album. it's very good. more to the...           joshua   \n",
       "1   Good flavor. This review was collected as part...        dorothy w   \n",
       "2                                        Good flavor.        dorothy w   \n",
       "3   I read through the reviews on here before look...          rebecca   \n",
       "4   My husband bought this gel for us. The gel cau...        walker557   \n",
       "5   My boyfriend and I bought this to spice things...         samantha   \n",
       "6   Bought this earlier today and was excited to c...          raeanne   \n",
       "7   I bought this product for my husband and I to ...           kimmie   \n",
       "8   My husband and I bought this for some extra fu...           cassie   \n",
       "9   Got as a surprise for my husband there is noth...         moore222   \n",
       "10  tried it with my husband and felt no different...          jds1992   \n",
       "11  Purchased this thinking it would have some sor...           bre234   \n",
       "12  Bought this to enhance our time a bit, did abs...          jds1992   \n",
       "13  I bought this after really liking the his n he...         gordy313   \n",
       "14  First time purchase of this type of product. M...           nicole   \n",
       "15  I bought this and tried this with my wife but ...          cvperez   \n",
       "16  I bought this product to spice things up with ...      beccagrl532   \n",
       "17  I bought this to try to spice things up, but I...          sanchez   \n",
       "18  I bought this because it had better reviews th...             ll24   \n",
       "19  It was my first time using k-y. It didn't do a...       browns fan   \n",
       "\n",
       "   user_sentiment user_sentiment_drived  \n",
       "0        Positive              Positive  \n",
       "1        Positive              Positive  \n",
       "2        Positive              Positive  \n",
       "3        Negative              Negative  \n",
       "4        Negative              Negative  \n",
       "5        Negative              Negative  \n",
       "6        Negative              Negative  \n",
       "7        Negative              Negative  \n",
       "8        Negative              Negative  \n",
       "9        Positive              Negative  \n",
       "10       Negative              Negative  \n",
       "11       Positive              Negative  \n",
       "12       Negative              Negative  \n",
       "13       Negative              Negative  \n",
       "14       Positive              Negative  \n",
       "15       Negative              Negative  \n",
       "16       Negative              Negative  \n",
       "17       Negative              Negative  \n",
       "18       Positive              Positive  \n",
       "19       Negative              Positive  "
      ]
     },
     "execution_count": 7,
     "metadata": {},
     "output_type": "execute_result"
    }
   ],
   "source": [
    "df_reviews['user_sentiment_drived'] = list(map(lambda rating: 'Positive' if rating>2 else 'Negative', df_reviews.reviews_rating))\n",
    "df_reviews.head(20)"
   ]
  },
  {
   "cell_type": "code",
   "execution_count": 8,
   "metadata": {},
   "outputs": [
    {
     "data": {
      "image/png": "[encoded data removed]",
      "text/plain": [
       "<Figure size 432x288 with 1 Axes>"
      ]
     },
     "metadata": {
      "needs_background": "light"
     },
     "output_type": "display_data"
    }
   ],
   "source": [
    "#plotting application data distribution\n",
    "sns.countplot(x='user_sentiment_drived', data= df_reviews)\n",
    "plt.show()"
   ]
  },
  {
   "cell_type": "code",
   "execution_count": 9,
   "metadata": {},
   "outputs": [
    {
     "data": {
      "text/plain": [
       "Positive    28145\n",
       "Negative     1791\n",
       "Name: user_sentiment_drived, dtype: int64"
      ]
     },
     "execution_count": 9,
     "metadata": {},
     "output_type": "execute_result"
    }
   ],
   "source": [
    "df_reviews.user_sentiment_drived.value_counts()"
   ]
  },
  {
   "cell_type": "code",
   "execution_count": 10,
   "metadata": {},
   "outputs": [
    {
     "data": {
      "text/html": [
       "<div>\n",
       "<style scoped>\n",
       "    .dataframe tbody tr th:only-of-type {\n",
       "        vertical-align: middle;\n",
       "    }\n",
       "\n",
       "    .dataframe tbody tr th {\n",
       "        vertical-align: top;\n",
       "    }\n",
       "\n",
       "    .dataframe thead th {\n",
       "        text-align: right;\n",
       "    }\n",
       "</style>\n",
       "<table border=\"1\" class=\"dataframe\">\n",
       "  <thead>\n",
       "    <tr style=\"text-align: right;\">\n",
       "      <th></th>\n",
       "      <th>id</th>\n",
       "      <th>reviews_rating</th>\n",
       "      <th>reviews_text</th>\n",
       "      <th>reviews_username</th>\n",
       "      <th>user_sentiment</th>\n",
       "      <th>user_sentiment_drived</th>\n",
       "      <th>user_segment_unequal</th>\n",
       "    </tr>\n",
       "  </thead>\n",
       "  <tbody>\n",
       "    <tr>\n",
       "      <th>9</th>\n",
       "      <td>AV16khLE-jtxr-f38VFn</td>\n",
       "      <td>1</td>\n",
       "      <td>Got as a surprise for my husband there is noth...</td>\n",
       "      <td>moore222</td>\n",
       "      <td>Positive</td>\n",
       "      <td>Negative</td>\n",
       "      <td>1</td>\n",
       "    </tr>\n",
       "    <tr>\n",
       "      <th>11</th>\n",
       "      <td>AV16khLE-jtxr-f38VFn</td>\n",
       "      <td>1</td>\n",
       "      <td>Purchased this thinking it would have some sor...</td>\n",
       "      <td>bre234</td>\n",
       "      <td>Positive</td>\n",
       "      <td>Negative</td>\n",
       "      <td>1</td>\n",
       "    </tr>\n",
       "    <tr>\n",
       "      <th>14</th>\n",
       "      <td>AV16khLE-jtxr-f38VFn</td>\n",
       "      <td>1</td>\n",
       "      <td>First time purchase of this type of product. M...</td>\n",
       "      <td>nicole</td>\n",
       "      <td>Positive</td>\n",
       "      <td>Negative</td>\n",
       "      <td>1</td>\n",
       "    </tr>\n",
       "    <tr>\n",
       "      <th>19</th>\n",
       "      <td>AV16khLE-jtxr-f38VFn</td>\n",
       "      <td>3</td>\n",
       "      <td>It was my first time using k-y. It didn't do a...</td>\n",
       "      <td>browns fan</td>\n",
       "      <td>Negative</td>\n",
       "      <td>Positive</td>\n",
       "      <td>1</td>\n",
       "    </tr>\n",
       "    <tr>\n",
       "      <th>42</th>\n",
       "      <td>AV1h6Gu0glJLPUi8IjA_</td>\n",
       "      <td>3</td>\n",
       "      <td>You would think it's convenient to have bubble...</td>\n",
       "      <td>gardenbunny318</td>\n",
       "      <td>Negative</td>\n",
       "      <td>Positive</td>\n",
       "      <td>1</td>\n",
       "    </tr>\n",
       "    <tr>\n",
       "      <th>54</th>\n",
       "      <td>AV1l8zRZvKc47QAVhnAv</td>\n",
       "      <td>1</td>\n",
       "      <td>I used (and loved) this product for several ye...</td>\n",
       "      <td>alnscoob97</td>\n",
       "      <td>Positive</td>\n",
       "      <td>Negative</td>\n",
       "      <td>1</td>\n",
       "    </tr>\n",
       "    <tr>\n",
       "      <th>56</th>\n",
       "      <td>AV1l8zRZvKc47QAVhnAv</td>\n",
       "      <td>1</td>\n",
       "      <td>I am so disappointed! I have used this product...</td>\n",
       "      <td>jacmary</td>\n",
       "      <td>Positive</td>\n",
       "      <td>Negative</td>\n",
       "      <td>1</td>\n",
       "    </tr>\n",
       "    <tr>\n",
       "      <th>58</th>\n",
       "      <td>AV1l8zRZvKc47QAVhnAv</td>\n",
       "      <td>1</td>\n",
       "      <td>It took me so long to find a moisturizer that ...</td>\n",
       "      <td>kayc</td>\n",
       "      <td>Positive</td>\n",
       "      <td>Negative</td>\n",
       "      <td>1</td>\n",
       "    </tr>\n",
       "    <tr>\n",
       "      <th>60</th>\n",
       "      <td>AV1l8zRZvKc47QAVhnAv</td>\n",
       "      <td>1</td>\n",
       "      <td>Olay don't work for me I have overly dry skin....</td>\n",
       "      <td>piggyboy420</td>\n",
       "      <td>Positive</td>\n",
       "      <td>Negative</td>\n",
       "      <td>1</td>\n",
       "    </tr>\n",
       "    <tr>\n",
       "      <th>64</th>\n",
       "      <td>AV1l8zRZvKc47QAVhnAv</td>\n",
       "      <td>2</td>\n",
       "      <td>While this product probably does leave faces f...</td>\n",
       "      <td>jharris20</td>\n",
       "      <td>Positive</td>\n",
       "      <td>Negative</td>\n",
       "      <td>1</td>\n",
       "    </tr>\n",
       "  </tbody>\n",
       "</table>\n",
       "</div>"
      ],
      "text/plain": [
       "                      id  reviews_rating  \\\n",
       "9   AV16khLE-jtxr-f38VFn               1   \n",
       "11  AV16khLE-jtxr-f38VFn               1   \n",
       "14  AV16khLE-jtxr-f38VFn               1   \n",
       "19  AV16khLE-jtxr-f38VFn               3   \n",
       "42  AV1h6Gu0glJLPUi8IjA_               3   \n",
       "54  AV1l8zRZvKc47QAVhnAv               1   \n",
       "56  AV1l8zRZvKc47QAVhnAv               1   \n",
       "58  AV1l8zRZvKc47QAVhnAv               1   \n",
       "60  AV1l8zRZvKc47QAVhnAv               1   \n",
       "64  AV1l8zRZvKc47QAVhnAv               2   \n",
       "\n",
       "                                         reviews_text reviews_username  \\\n",
       "9   Got as a surprise for my husband there is noth...         moore222   \n",
       "11  Purchased this thinking it would have some sor...           bre234   \n",
       "14  First time purchase of this type of product. M...           nicole   \n",
       "19  It was my first time using k-y. It didn't do a...       browns fan   \n",
       "42  You would think it's convenient to have bubble...   gardenbunny318   \n",
       "54  I used (and loved) this product for several ye...       alnscoob97   \n",
       "56  I am so disappointed! I have used this product...          jacmary   \n",
       "58  It took me so long to find a moisturizer that ...             kayc   \n",
       "60  Olay don't work for me I have overly dry skin....      piggyboy420   \n",
       "64  While this product probably does leave faces f...        jharris20   \n",
       "\n",
       "   user_sentiment user_sentiment_drived  user_segment_unequal  \n",
       "9        Positive              Negative                     1  \n",
       "11       Positive              Negative                     1  \n",
       "14       Positive              Negative                     1  \n",
       "19       Negative              Positive                     1  \n",
       "42       Negative              Positive                     1  \n",
       "54       Positive              Negative                     1  \n",
       "56       Positive              Negative                     1  \n",
       "58       Positive              Negative                     1  \n",
       "60       Positive              Negative                     1  \n",
       "64       Positive              Negative                     1  "
      ]
     },
     "execution_count": 10,
     "metadata": {},
     "output_type": "execute_result"
    }
   ],
   "source": [
    "def checkEqual(review):\n",
    "    if review['user_sentiment'] == review['user_sentiment_drived']:\n",
    "        return 0\n",
    "    return 1\n",
    "df_reviews['user_segment_unequal'] = df_reviews.apply(checkEqual, axis=1)\n",
    "df_reviews[df_reviews['user_segment_unequal'] == 1].head(10)"
   ]
  },
  {
   "cell_type": "markdown",
   "metadata": {},
   "source": [
    "#### As per observation the provided user_sentiment is not showing correct sentiment but rating shows more accurate. So we have created user_sentiment_drived for sentiment from rating and will go with it.\n",
    "Dropping extra two columns."
   ]
  },
  {
   "cell_type": "code",
   "execution_count": 11,
   "metadata": {},
   "outputs": [],
   "source": [
    "df_reviews = df_reviews.drop(['user_sentiment', 'user_segment_unequal'], axis=1)"
   ]
  },
  {
   "cell_type": "code",
   "execution_count": 12,
   "metadata": {},
   "outputs": [
    {
     "name": "stdout",
     "output_type": "stream",
     "text": [
      "Shape:  (29936, 5)\n"
     ]
    },
    {
     "data": {
      "text/html": [
       "<div>\n",
       "<style scoped>\n",
       "    .dataframe tbody tr th:only-of-type {\n",
       "        vertical-align: middle;\n",
       "    }\n",
       "\n",
       "    .dataframe tbody tr th {\n",
       "        vertical-align: top;\n",
       "    }\n",
       "\n",
       "    .dataframe thead th {\n",
       "        text-align: right;\n",
       "    }\n",
       "</style>\n",
       "<table border=\"1\" class=\"dataframe\">\n",
       "  <thead>\n",
       "    <tr style=\"text-align: right;\">\n",
       "      <th></th>\n",
       "      <th>id</th>\n",
       "      <th>reviews_rating</th>\n",
       "      <th>reviews_text</th>\n",
       "      <th>reviews_username</th>\n",
       "      <th>user_sentiment_drived</th>\n",
       "    </tr>\n",
       "  </thead>\n",
       "  <tbody>\n",
       "    <tr>\n",
       "      <th>0</th>\n",
       "      <td>AV13O1A8GV-KLJ3akUyj</td>\n",
       "      <td>5</td>\n",
       "      <td>i love this album. it's very good. more to the...</td>\n",
       "      <td>joshua</td>\n",
       "      <td>Positive</td>\n",
       "    </tr>\n",
       "    <tr>\n",
       "      <th>1</th>\n",
       "      <td>AV14LG0R-jtxr-f38QfS</td>\n",
       "      <td>5</td>\n",
       "      <td>Good flavor. This review was collected as part...</td>\n",
       "      <td>dorothy w</td>\n",
       "      <td>Positive</td>\n",
       "    </tr>\n",
       "    <tr>\n",
       "      <th>2</th>\n",
       "      <td>AV14LG0R-jtxr-f38QfS</td>\n",
       "      <td>5</td>\n",
       "      <td>Good flavor.</td>\n",
       "      <td>dorothy w</td>\n",
       "      <td>Positive</td>\n",
       "    </tr>\n",
       "    <tr>\n",
       "      <th>3</th>\n",
       "      <td>AV16khLE-jtxr-f38VFn</td>\n",
       "      <td>1</td>\n",
       "      <td>I read through the reviews on here before look...</td>\n",
       "      <td>rebecca</td>\n",
       "      <td>Negative</td>\n",
       "    </tr>\n",
       "    <tr>\n",
       "      <th>4</th>\n",
       "      <td>AV16khLE-jtxr-f38VFn</td>\n",
       "      <td>1</td>\n",
       "      <td>My husband bought this gel for us. The gel cau...</td>\n",
       "      <td>walker557</td>\n",
       "      <td>Negative</td>\n",
       "    </tr>\n",
       "  </tbody>\n",
       "</table>\n",
       "</div>"
      ],
      "text/plain": [
       "                     id  reviews_rating  \\\n",
       "0  AV13O1A8GV-KLJ3akUyj               5   \n",
       "1  AV14LG0R-jtxr-f38QfS               5   \n",
       "2  AV14LG0R-jtxr-f38QfS               5   \n",
       "3  AV16khLE-jtxr-f38VFn               1   \n",
       "4  AV16khLE-jtxr-f38VFn               1   \n",
       "\n",
       "                                        reviews_text reviews_username  \\\n",
       "0  i love this album. it's very good. more to the...           joshua   \n",
       "1  Good flavor. This review was collected as part...        dorothy w   \n",
       "2                                       Good flavor.        dorothy w   \n",
       "3  I read through the reviews on here before look...          rebecca   \n",
       "4  My husband bought this gel for us. The gel cau...        walker557   \n",
       "\n",
       "  user_sentiment_drived  \n",
       "0              Positive  \n",
       "1              Positive  \n",
       "2              Positive  \n",
       "3              Negative  \n",
       "4              Negative  "
      ]
     },
     "execution_count": 12,
     "metadata": {},
     "output_type": "execute_result"
    }
   ],
   "source": [
    "print('Shape: ', df_reviews.shape)\n",
    "df_reviews.head()"
   ]
  },
  {
   "cell_type": "markdown",
   "metadata": {},
   "source": [
    "We have clean table and can perform NLP on it"
   ]
  },
  {
   "cell_type": "markdown",
   "metadata": {},
   "source": [
    "# 3. Text preprocessing\n",
    "### NLP"
   ]
  },
  {
   "cell_type": "code",
   "execution_count": 13,
   "metadata": {},
   "outputs": [
    {
     "name": "stderr",
     "output_type": "stream",
     "text": [
      "[nltk_data] Downloading package stopwords to\n",
      "[nltk_data]     C:\\Users\\BA06878\\AppData\\Roaming\\nltk_data...\n",
      "[nltk_data]   Package stopwords is already up-to-date!\n",
      "[nltk_data] Downloading package punkt to\n",
      "[nltk_data]     C:\\Users\\BA06878\\AppData\\Roaming\\nltk_data...\n",
      "[nltk_data]   Package punkt is already up-to-date!\n",
      "[nltk_data] Downloading package averaged_perceptron_tagger to\n",
      "[nltk_data]     C:\\Users\\BA06878\\AppData\\Roaming\\nltk_data...\n",
      "[nltk_data]   Package averaged_perceptron_tagger is already up-to-\n",
      "[nltk_data]       date!\n",
      "[nltk_data] Downloading package wordnet to\n",
      "[nltk_data]     C:\\Users\\BA06878\\AppData\\Roaming\\nltk_data...\n",
      "[nltk_data]   Package wordnet is already up-to-date!\n"
     ]
    }
   ],
   "source": [
    "# NLTK libraries\n",
    "import nltk\n",
    "nltk.download('stopwords')\n",
    "nltk.download('punkt')\n",
    "nltk.download('averaged_perceptron_tagger')\n",
    "nltk.download('wordnet')\n",
    "from nltk.corpus import stopwords\n",
    "from nltk import FreqDist\n",
    "from nltk.tokenize import word_tokenize\n",
    "from nltk.stem.wordnet import WordNetLemmatizer\n",
    "from nltk.corpus import wordnet"
   ]
  },
  {
   "cell_type": "code",
   "execution_count": 14,
   "metadata": {},
   "outputs": [],
   "source": [
    "#converting into string\n",
    "df_reviews['reviews_text'] = df_reviews['reviews_text'].astype('str')"
   ]
  },
  {
   "cell_type": "code",
   "execution_count": 15,
   "metadata": {},
   "outputs": [],
   "source": [
    "# Remove punctuation \n",
    "df_reviews['reviews_text'] = df_reviews['reviews_text'].str.replace('[^\\w\\s]','')"
   ]
  },
  {
   "cell_type": "code",
   "execution_count": 16,
   "metadata": {},
   "outputs": [],
   "source": [
    "# Remove Stopwords\n",
    "stop = stopwords.words('english')\n",
    "df_reviews['reviews_text'] = df_reviews['reviews_text'].apply(lambda x: ' '.join([word for word in x.split() if word not in (stop)]))"
   ]
  },
  {
   "cell_type": "code",
   "execution_count": 17,
   "metadata": {},
   "outputs": [],
   "source": [
    "# Converted to lower case\n",
    "df_reviews['reviews_text'] = df_reviews['reviews_text'].str.lower()"
   ]
  },
  {
   "cell_type": "code",
   "execution_count": 18,
   "metadata": {},
   "outputs": [],
   "source": [
    "### import necessary libraries\n",
    "from nltk.stem import WordNetLemmatizer\n",
    "from nltk.tokenize import word_tokenize"
   ]
  },
  {
   "cell_type": "code",
   "execution_count": 19,
   "metadata": {},
   "outputs": [],
   "source": [
    "# Lennatization\n",
    "wordnet_lemmatizer = WordNetLemmatizer()\n",
    "def lemmatizer(text):\n",
    "    tokens = word_tokenize(text)\n",
    "    lemmatized = [wordnet_lemmatizer.lemmatize(token) for token in tokens]\n",
    "    return ' '.join([str(elem) for elem in lemmatized])\n"
   ]
  },
  {
   "cell_type": "code",
   "execution_count": 20,
   "metadata": {},
   "outputs": [
    {
     "data": {
      "text/html": [
       "<div>\n",
       "<style scoped>\n",
       "    .dataframe tbody tr th:only-of-type {\n",
       "        vertical-align: middle;\n",
       "    }\n",
       "\n",
       "    .dataframe tbody tr th {\n",
       "        vertical-align: top;\n",
       "    }\n",
       "\n",
       "    .dataframe thead th {\n",
       "        text-align: right;\n",
       "    }\n",
       "</style>\n",
       "<table border=\"1\" class=\"dataframe\">\n",
       "  <thead>\n",
       "    <tr style=\"text-align: right;\">\n",
       "      <th></th>\n",
       "      <th>id</th>\n",
       "      <th>reviews_rating</th>\n",
       "      <th>reviews_text</th>\n",
       "      <th>reviews_username</th>\n",
       "      <th>user_sentiment_drived</th>\n",
       "    </tr>\n",
       "  </thead>\n",
       "  <tbody>\n",
       "    <tr>\n",
       "      <th>0</th>\n",
       "      <td>AV13O1A8GV-KLJ3akUyj</td>\n",
       "      <td>5</td>\n",
       "      <td>love album good hip hop side current pop sound...</td>\n",
       "      <td>joshua</td>\n",
       "      <td>Positive</td>\n",
       "    </tr>\n",
       "    <tr>\n",
       "      <th>1</th>\n",
       "      <td>AV14LG0R-jtxr-f38QfS</td>\n",
       "      <td>5</td>\n",
       "      <td>good flavor this review collected part promotion</td>\n",
       "      <td>dorothy w</td>\n",
       "      <td>Positive</td>\n",
       "    </tr>\n",
       "    <tr>\n",
       "      <th>2</th>\n",
       "      <td>AV14LG0R-jtxr-f38QfS</td>\n",
       "      <td>5</td>\n",
       "      <td>good flavor</td>\n",
       "      <td>dorothy w</td>\n",
       "      <td>Positive</td>\n",
       "    </tr>\n",
       "    <tr>\n",
       "      <th>3</th>\n",
       "      <td>AV16khLE-jtxr-f38VFn</td>\n",
       "      <td>1</td>\n",
       "      <td>i read reviews looking buying one couples lubr...</td>\n",
       "      <td>rebecca</td>\n",
       "      <td>Negative</td>\n",
       "    </tr>\n",
       "    <tr>\n",
       "      <th>4</th>\n",
       "      <td>AV16khLE-jtxr-f38VFn</td>\n",
       "      <td>1</td>\n",
       "      <td>my husband bought gel us the gel caused irrita...</td>\n",
       "      <td>walker557</td>\n",
       "      <td>Negative</td>\n",
       "    </tr>\n",
       "  </tbody>\n",
       "</table>\n",
       "</div>"
      ],
      "text/plain": [
       "                     id  reviews_rating  \\\n",
       "0  AV13O1A8GV-KLJ3akUyj               5   \n",
       "1  AV14LG0R-jtxr-f38QfS               5   \n",
       "2  AV14LG0R-jtxr-f38QfS               5   \n",
       "3  AV16khLE-jtxr-f38VFn               1   \n",
       "4  AV16khLE-jtxr-f38VFn               1   \n",
       "\n",
       "                                        reviews_text reviews_username  \\\n",
       "0  love album good hip hop side current pop sound...           joshua   \n",
       "1   good flavor this review collected part promotion        dorothy w   \n",
       "2                                        good flavor        dorothy w   \n",
       "3  i read reviews looking buying one couples lubr...          rebecca   \n",
       "4  my husband bought gel us the gel caused irrita...        walker557   \n",
       "\n",
       "  user_sentiment_drived  \n",
       "0              Positive  \n",
       "1              Positive  \n",
       "2              Positive  \n",
       "3              Negative  \n",
       "4              Negative  "
      ]
     },
     "execution_count": 20,
     "metadata": {},
     "output_type": "execute_result"
    }
   ],
   "source": [
    "df_reviews.head()"
   ]
  },
  {
   "cell_type": "code",
   "execution_count": 21,
   "metadata": {},
   "outputs": [
    {
     "data": {
      "text/html": [
       "<div>\n",
       "<style scoped>\n",
       "    .dataframe tbody tr th:only-of-type {\n",
       "        vertical-align: middle;\n",
       "    }\n",
       "\n",
       "    .dataframe tbody tr th {\n",
       "        vertical-align: top;\n",
       "    }\n",
       "\n",
       "    .dataframe thead th {\n",
       "        text-align: right;\n",
       "    }\n",
       "</style>\n",
       "<table border=\"1\" class=\"dataframe\">\n",
       "  <thead>\n",
       "    <tr style=\"text-align: right;\">\n",
       "      <th></th>\n",
       "      <th>id</th>\n",
       "      <th>reviews_rating</th>\n",
       "      <th>reviews_text</th>\n",
       "      <th>reviews_username</th>\n",
       "      <th>user_sentiment_drived</th>\n",
       "      <th>reviews_text_lem</th>\n",
       "    </tr>\n",
       "  </thead>\n",
       "  <tbody>\n",
       "    <tr>\n",
       "      <th>0</th>\n",
       "      <td>AV13O1A8GV-KLJ3akUyj</td>\n",
       "      <td>5</td>\n",
       "      <td>love album good hip hop side current pop sound...</td>\n",
       "      <td>joshua</td>\n",
       "      <td>Positive</td>\n",
       "      <td>love album good hip hop side current pop sound...</td>\n",
       "    </tr>\n",
       "    <tr>\n",
       "      <th>1</th>\n",
       "      <td>AV14LG0R-jtxr-f38QfS</td>\n",
       "      <td>5</td>\n",
       "      <td>good flavor this review collected part promotion</td>\n",
       "      <td>dorothy w</td>\n",
       "      <td>Positive</td>\n",
       "      <td>good flavor this review collected part promotion</td>\n",
       "    </tr>\n",
       "    <tr>\n",
       "      <th>2</th>\n",
       "      <td>AV14LG0R-jtxr-f38QfS</td>\n",
       "      <td>5</td>\n",
       "      <td>good flavor</td>\n",
       "      <td>dorothy w</td>\n",
       "      <td>Positive</td>\n",
       "      <td>good flavor</td>\n",
       "    </tr>\n",
       "    <tr>\n",
       "      <th>3</th>\n",
       "      <td>AV16khLE-jtxr-f38VFn</td>\n",
       "      <td>1</td>\n",
       "      <td>i read reviews looking buying one couples lubr...</td>\n",
       "      <td>rebecca</td>\n",
       "      <td>Negative</td>\n",
       "      <td>i read review looking buying one couple lubric...</td>\n",
       "    </tr>\n",
       "    <tr>\n",
       "      <th>4</th>\n",
       "      <td>AV16khLE-jtxr-f38VFn</td>\n",
       "      <td>1</td>\n",
       "      <td>my husband bought gel us the gel caused irrita...</td>\n",
       "      <td>walker557</td>\n",
       "      <td>Negative</td>\n",
       "      <td>my husband bought gel u the gel caused irritat...</td>\n",
       "    </tr>\n",
       "  </tbody>\n",
       "</table>\n",
       "</div>"
      ],
      "text/plain": [
       "                     id  reviews_rating  \\\n",
       "0  AV13O1A8GV-KLJ3akUyj               5   \n",
       "1  AV14LG0R-jtxr-f38QfS               5   \n",
       "2  AV14LG0R-jtxr-f38QfS               5   \n",
       "3  AV16khLE-jtxr-f38VFn               1   \n",
       "4  AV16khLE-jtxr-f38VFn               1   \n",
       "\n",
       "                                        reviews_text reviews_username  \\\n",
       "0  love album good hip hop side current pop sound...           joshua   \n",
       "1   good flavor this review collected part promotion        dorothy w   \n",
       "2                                        good flavor        dorothy w   \n",
       "3  i read reviews looking buying one couples lubr...          rebecca   \n",
       "4  my husband bought gel us the gel caused irrita...        walker557   \n",
       "\n",
       "  user_sentiment_drived                                   reviews_text_lem  \n",
       "0              Positive  love album good hip hop side current pop sound...  \n",
       "1              Positive   good flavor this review collected part promotion  \n",
       "2              Positive                                        good flavor  \n",
       "3              Negative  i read review looking buying one couple lubric...  \n",
       "4              Negative  my husband bought gel u the gel caused irritat...  "
      ]
     },
     "execution_count": 21,
     "metadata": {},
     "output_type": "execute_result"
    }
   ],
   "source": [
    "df_reviews['reviews_text_lem'] = df_reviews.reviews_text.map(lemmatizer)\n",
    "df_reviews.head()"
   ]
  },
  {
   "cell_type": "markdown",
   "metadata": {},
   "source": [
    "# 3. Feature Extraction"
   ]
  },
  {
   "cell_type": "code",
   "execution_count": 22,
   "metadata": {},
   "outputs": [],
   "source": [
    "#Modelling \n",
    "from sklearn.model_selection import train_test_split\n",
    "from sklearn.feature_extraction.text import CountVectorizer, TfidfVectorizer\n",
    "from sklearn.linear_model import LogisticRegression\n",
    "from sklearn.ensemble import RandomForestClassifier\n",
    "from sklearn.metrics import accuracy_score\n",
    "from sklearn.metrics import confusion_matrix, classification_report"
   ]
  },
  {
   "cell_type": "code",
   "execution_count": 23,
   "metadata": {},
   "outputs": [],
   "source": [
    "from imblearn.over_sampling import SMOTE"
   ]
  },
  {
   "cell_type": "code",
   "execution_count": 24,
   "metadata": {},
   "outputs": [],
   "source": [
    "x=df_reviews['reviews_text_lem'] \n",
    "y=df_reviews['user_sentiment_drived']"
   ]
  },
  {
   "cell_type": "code",
   "execution_count": 25,
   "metadata": {},
   "outputs": [],
   "source": [
    "# Split the dataset into test and train\n",
    "seed = 50 \n",
    "\n",
    "X_train, X_test, y_train, y_test = train_test_split(x, y, test_size=0.3, random_state=seed)"
   ]
  },
  {
   "cell_type": "code",
   "execution_count": 26,
   "metadata": {},
   "outputs": [],
   "source": [
    "word_vectorizer = TfidfVectorizer(\n",
    "    strip_accents='unicode',    # Remove accents and perform other character normalization during the preprocessing step. \n",
    "    analyzer='word',            # Whether the feature should be made of word or character n-grams.\n",
    "    token_pattern=r'\\w{1,}',    # Regular expression denoting what constitutes a “token”, only used if analyzer == 'word'\n",
    "    ngram_range=(1, 3),         # The lower and upper boundary of the range of n-values for different n-grams to be extracted\n",
    "    stop_words='english',\n",
    "    sublinear_tf=True)\n",
    "\n",
    "word_vectorizer.fit(X_train)    # Fiting it on Train\n",
    "train_word_features = word_vectorizer.transform(X_train)  # Transform on Train"
   ]
  },
  {
   "cell_type": "code",
   "execution_count": 27,
   "metadata": {},
   "outputs": [
    {
     "name": "stdout",
     "output_type": "stream",
     "text": [
      "X_train_transformed (20955, 372947)\n",
      "y_train (20955,)\n",
      "X_test_transformed (8981, 372947)\n",
      "y_test (8981,)\n"
     ]
    }
   ],
   "source": [
    "## transforming the train and test datasets\n",
    "X_train_transformed = word_vectorizer.transform(X_train.tolist())\n",
    "X_test_transformed = word_vectorizer.transform(X_test.tolist())\n",
    "\n",
    "# # Print the shape of each dataset.\n",
    "print('X_train_transformed', X_train_transformed.shape)\n",
    "print('y_train', y_train.shape)\n",
    "print('X_test_transformed', X_test_transformed.shape)\n",
    "print('y_test', y_test.shape)"
   ]
  },
  {
   "cell_type": "markdown",
   "metadata": {},
   "source": [
    "# Model Building\n",
    "\n",
    "## Logistic regression"
   ]
  },
  {
   "cell_type": "code",
   "execution_count": 28,
   "metadata": {},
   "outputs": [
    {
     "data": {
      "text/plain": [
       "LogisticRegression()"
      ]
     },
     "execution_count": 28,
     "metadata": {},
     "output_type": "execute_result"
    }
   ],
   "source": [
    "logit = LogisticRegression()\n",
    "logit.fit(X_train_transformed,y_train)"
   ]
  },
  {
   "cell_type": "code",
   "execution_count": 29,
   "metadata": {},
   "outputs": [
    {
     "name": "stdout",
     "output_type": "stream",
     "text": [
      "Logistic Regression accuracy 0.9644476258649487\n",
      "              precision    recall  f1-score   support\n",
      "\n",
      "    Negative       0.41      0.99      0.58       513\n",
      "    Positive       1.00      0.96      0.98     20442\n",
      "\n",
      "    accuracy                           0.96     20955\n",
      "   macro avg       0.70      0.98      0.78     20955\n",
      "weighted avg       0.99      0.96      0.97     20955\n",
      "\n"
     ]
    }
   ],
   "source": [
    "# Prediction Train Data\n",
    "y_pred_train= logit.predict(X_train_transformed)\n",
    "\n",
    "#Model Performance on Train Dataset\n",
    "print(\"Logistic Regression accuracy\", accuracy_score(y_pred_train, y_train))\n",
    "print(classification_report(y_pred_train, y_train))"
   ]
  },
  {
   "cell_type": "code",
   "execution_count": 30,
   "metadata": {},
   "outputs": [
    {
     "name": "stdout",
     "output_type": "stream",
     "text": [
      "Logistic Regression accuracy 0.9630330698140519\n",
      "              precision    recall  f1-score   support\n",
      "\n",
      "    Negative       0.41      0.97      0.57       229\n",
      "    Positive       1.00      0.96      0.98      8752\n",
      "\n",
      "    accuracy                           0.96      8981\n",
      "   macro avg       0.70      0.97      0.78      8981\n",
      "weighted avg       0.98      0.96      0.97      8981\n",
      "\n"
     ]
    }
   ],
   "source": [
    "# Prediction Test Data\n",
    "y_pred_test = logit.predict(X_test_transformed)\n",
    "\n",
    "#Model Performance on Test Dataset\n",
    "print(\"Logistic Regression accuracy\", accuracy_score(y_pred_test, y_test))\n",
    "print(classification_report(y_pred_test, y_test))"
   ]
  },
  {
   "cell_type": "code",
   "execution_count": 31,
   "metadata": {},
   "outputs": [],
   "source": [
    "from collections import Counter"
   ]
  },
  {
   "cell_type": "code",
   "execution_count": 32,
   "metadata": {},
   "outputs": [
    {
     "name": "stdout",
     "output_type": "stream",
     "text": [
      "Before Counter({'Positive': 19711, 'Negative': 1244})\n",
      "After Counter({'Positive': 19711, 'Negative': 19711})\n"
     ]
    }
   ],
   "source": [
    "counter = Counter(y_train)\n",
    "print('Before',counter)\n",
    "\n",
    "sm = SMOTE()\n",
    "\n",
    "# transform the dataset\n",
    "X_train_transformed_sm, y_train_sm = sm.fit_resample(X_train_transformed, y_train)\n",
    "\n",
    "counter = Counter(y_train_sm)\n",
    "print('After',counter)"
   ]
  },
  {
   "cell_type": "code",
   "execution_count": 33,
   "metadata": {},
   "outputs": [
    {
     "data": {
      "text/plain": [
       "LogisticRegression()"
      ]
     },
     "execution_count": 33,
     "metadata": {},
     "output_type": "execute_result"
    }
   ],
   "source": [
    "logit_sm = LogisticRegression()\n",
    "logit_sm.fit(X_train_transformed_sm,y_train_sm)"
   ]
  },
  {
   "cell_type": "code",
   "execution_count": 34,
   "metadata": {},
   "outputs": [
    {
     "name": "stdout",
     "output_type": "stream",
     "text": [
      "Logistic Regression accuracy 0.9971335802343869\n",
      "              precision    recall  f1-score   support\n",
      "\n",
      "    Negative       1.00      1.00      1.00     19792\n",
      "    Positive       1.00      1.00      1.00     19630\n",
      "\n",
      "    accuracy                           1.00     39422\n",
      "   macro avg       1.00      1.00      1.00     39422\n",
      "weighted avg       1.00      1.00      1.00     39422\n",
      "\n"
     ]
    }
   ],
   "source": [
    "# Prediction Train Data\n",
    "y_pred_train_sm= logit_sm.predict(X_train_transformed_sm)\n",
    "\n",
    "#Model Performance on Train Dataset\n",
    "print(\"Logistic Regression accuracy\", accuracy_score(y_pred_train_sm, y_train_sm))\n",
    "print(classification_report(y_pred_train_sm, y_train_sm))"
   ]
  },
  {
   "cell_type": "code",
   "execution_count": 35,
   "metadata": {},
   "outputs": [
    {
     "name": "stdout",
     "output_type": "stream",
     "text": [
      "Logistic Regression accuracy 0.9589132613294733\n",
      "              precision    recall  f1-score   support\n",
      "\n",
      "    Negative       0.76      0.64      0.69       650\n",
      "    Positive       0.97      0.98      0.98      8331\n",
      "\n",
      "    accuracy                           0.96      8981\n",
      "   macro avg       0.86      0.81      0.83      8981\n",
      "weighted avg       0.96      0.96      0.96      8981\n",
      "\n",
      "[[ 414  236]\n",
      " [ 133 8198]]\n"
     ]
    }
   ],
   "source": [
    "# Prediction Test Data\n",
    "y_pred_test = logit_sm.predict(X_test_transformed)\n",
    "\n",
    "print(\"Logistic Regression accuracy\", accuracy_score(y_pred_test, y_test))\n",
    "print(classification_report(y_pred_test, y_test))\n",
    "print(confusion_matrix(y_pred_test, y_test))"
   ]
  },
  {
   "cell_type": "markdown",
   "metadata": {},
   "source": [
    "## Random Forest"
   ]
  },
  {
   "cell_type": "code",
   "execution_count": 36,
   "metadata": {},
   "outputs": [
    {
     "data": {
      "text/plain": [
       "RandomForestClassifier(n_jobs=-1, random_state=50)"
      ]
     },
     "execution_count": 36,
     "metadata": {},
     "output_type": "execute_result"
    }
   ],
   "source": [
    "classifier = RandomForestClassifier(n_estimators=100, random_state=seed, n_jobs=-1)\n",
    "classifier.fit(X_train_transformed_sm,y_train_sm)"
   ]
  },
  {
   "cell_type": "code",
   "execution_count": 37,
   "metadata": {},
   "outputs": [
    {
     "name": "stdout",
     "output_type": "stream",
     "text": [
      "Random Forest Model accuracy 0.9999746334534017\n",
      "              precision    recall  f1-score   support\n",
      "\n",
      "    Negative       1.00      1.00      1.00     19710\n",
      "    Positive       1.00      1.00      1.00     19712\n",
      "\n",
      "    accuracy                           1.00     39422\n",
      "   macro avg       1.00      1.00      1.00     39422\n",
      "weighted avg       1.00      1.00      1.00     39422\n",
      "\n"
     ]
    }
   ],
   "source": [
    "# Prediction Train Data\n",
    "y_pred_train_sm= classifier.predict(X_train_transformed_sm)\n",
    "\n",
    "print(\"Random Forest Model accuracy\", accuracy_score(y_pred_train_sm, y_train_sm))\n",
    "print(classification_report(y_pred_train_sm, y_train_sm))"
   ]
  },
  {
   "cell_type": "code",
   "execution_count": 38,
   "metadata": {},
   "outputs": [
    {
     "name": "stdout",
     "output_type": "stream",
     "text": [
      "Random Forest Model accuracy 0.9677096091749249\n",
      "              precision    recall  f1-score   support\n",
      "\n",
      "    Negative       0.47      0.99      0.64       261\n",
      "    Positive       1.00      0.97      0.98      8720\n",
      "\n",
      "    accuracy                           0.97      8981\n",
      "   macro avg       0.74      0.98      0.81      8981\n",
      "weighted avg       0.98      0.97      0.97      8981\n",
      "\n",
      "[[ 259    2]\n",
      " [ 288 8432]]\n"
     ]
    }
   ],
   "source": [
    "# Prediction Test Data\n",
    "y_pred_test = classifier.predict(X_test_transformed)\n",
    "\n",
    "print(\"Random Forest Model accuracy\", accuracy_score(y_pred_test, y_test))\n",
    "print(classification_report(y_pred_test, y_test))\n",
    "print(confusion_matrix(y_pred_test, y_test))"
   ]
  },
  {
   "cell_type": "code",
   "execution_count": null,
   "metadata": {},
   "outputs": [],
   "source": []
  },
  {
   "cell_type": "markdown",
   "metadata": {},
   "source": [
    "# XGBoost"
   ]
  },
  {
   "cell_type": "code",
   "execution_count": 39,
   "metadata": {},
   "outputs": [],
   "source": [
    "from xgboost import XGBClassifier"
   ]
  },
  {
   "cell_type": "code",
   "execution_count": 40,
   "metadata": {},
   "outputs": [],
   "source": [
    "classifier = RandomForestClassifier(n_estimators=100, random_state=seed, n_jobs=-1)"
   ]
  },
  {
   "cell_type": "code",
   "execution_count": 41,
   "metadata": {},
   "outputs": [],
   "source": [
    "xgbc = XGBClassifier(n_estimators=100, random_state=seed, n_jobs=-1) "
   ]
  },
  {
   "cell_type": "code",
   "execution_count": 49,
   "metadata": {},
   "outputs": [
    {
     "name": "stdout",
     "output_type": "stream",
     "text": [
      "[15:24:51] WARNING: C:/Users/Administrator/workspace/xgboost-win64_release_1.5.1/src/learner.cc:1115: Starting in XGBoost 1.3.0, the default evaluation metric used with the objective 'binary:logistic' was changed from 'error' to 'logloss'. Explicitly set eval_metric if you'd like to restore the old behavior.\n"
     ]
    },
    {
     "data": {
      "text/plain": [
       "XGBClassifier(base_score=0.5, booster='gbtree', colsample_bylevel=1,\n",
       "              colsample_bynode=1, colsample_bytree=1, enable_categorical=False,\n",
       "              gamma=0, gpu_id=-1, importance_type=None,\n",
       "              interaction_constraints='', learning_rate=0.300000012,\n",
       "              max_delta_step=0, max_depth=6, min_child_weight=1, missing=nan,\n",
       "              monotone_constraints='()', n_estimators=100, n_jobs=-1,\n",
       "              num_parallel_tree=1, predictor='auto', random_state=50,\n",
       "              reg_alpha=0, reg_lambda=1, scale_pos_weight=1, subsample=1,\n",
       "              tree_method='exact', validate_parameters=1, verbosity=None)"
      ]
     },
     "execution_count": 49,
     "metadata": {},
     "output_type": "execute_result"
    }
   ],
   "source": [
    "xgbc.fit(X_train_transformed_sm,y_train_sm)"
   ]
  },
  {
   "cell_type": "code",
   "execution_count": 50,
   "metadata": {},
   "outputs": [
    {
     "name": "stdout",
     "output_type": "stream",
     "text": [
      "XGBoost Model accuracy 0.9885343209375476\n",
      "              precision    recall  f1-score   support\n",
      "\n",
      "    Negative       0.98      0.99      0.99     19465\n",
      "    Positive       0.99      0.98      0.99     19957\n",
      "\n",
      "    accuracy                           0.99     39422\n",
      "   macro avg       0.99      0.99      0.99     39422\n",
      "weighted avg       0.99      0.99      0.99     39422\n",
      "\n"
     ]
    }
   ],
   "source": [
    "# Prediction Train Data\n",
    "y_pred_train_sm= xgbc.predict(X_train_transformed_sm)\n",
    "\n",
    "print(\"XGBoost Model accuracy\", accuracy_score(y_pred_train_sm, y_train_sm))\n",
    "print(classification_report(y_pred_train_sm, y_train_sm))"
   ]
  },
  {
   "cell_type": "code",
   "execution_count": 51,
   "metadata": {},
   "outputs": [
    {
     "name": "stdout",
     "output_type": "stream",
     "text": [
      "XGBoost Model accuracy 0.967598262999666\n",
      "              precision    recall  f1-score   support\n",
      "\n",
      "    Negative       0.54      0.88      0.67       336\n",
      "    Positive       1.00      0.97      0.98      8645\n",
      "\n",
      "    accuracy                           0.97      8981\n",
      "   macro avg       0.77      0.93      0.83      8981\n",
      "weighted avg       0.98      0.97      0.97      8981\n",
      "\n",
      "[[ 296   40]\n",
      " [ 251 8394]]\n"
     ]
    }
   ],
   "source": [
    "# Prediction Test Data\n",
    "y_pred_test = xgbc.predict(X_test_transformed)\n",
    "\n",
    "print(\"XGBoost Model accuracy\", accuracy_score(y_pred_test, y_test))\n",
    "print(classification_report(y_pred_test, y_test))\n",
    "print(confusion_matrix(y_pred_test, y_test))"
   ]
  },
  {
   "cell_type": "markdown",
   "metadata": {},
   "source": [
    "# Sentiment analysis summary\n",
    "\n",
    "Test data Accuracy\n",
    "    \n",
    "-\t\tLogistic Regression accuracy 0.9630330698140\n",
    "-\t\tRandom Forest Model accuracy 0.9677096091749249\n",
    "-\t\tXGBoost Model accuracy 0.967598262999666\n",
    "\n",
    "Accuracy is very close in all three model. Random Forest is winner with very close margin. So we'll use Random Rorest"
   ]
  },
  {
   "cell_type": "code",
   "execution_count": null,
   "metadata": {},
   "outputs": [],
   "source": []
  }
 ],
 "metadata": {
  "kernelspec": {
   "display_name": "Python 3",
   "language": "python",
   "name": "python3"
  },
  "language_info": {
   "codemirror_mode": {
    "name": "ipython",
    "version": 3
   },
   "file_extension": ".py",
   "mimetype": "text/x-python",
   "name": "python",
   "nbconvert_exporter": "python",
   "pygments_lexer": "ipython3",
   "version": "3.8.5"
  }
 },
 "nbformat": 4,
 "nbformat_minor": 4
}
